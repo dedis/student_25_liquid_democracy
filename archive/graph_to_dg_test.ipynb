{
 "cells": [
  {
   "cell_type": "code",
   "execution_count": null,
   "id": "d691bbeb",
   "metadata": {},
   "outputs": [
    {
     "name": "stdout",
     "output_type": "stream",
     "text": [
      "[(0, 1, 1), (0, 2, 1), (0, 3, 1), (0, 4, 1), (0, 5, 1), (0, 6, 1), (0, 7, 1), (0, 8, 1), (0, 9, 1)]\n",
      "[(1, 2, 1), (1, 3, 1), (1, 4, 1), (1, 5, 1), (1, 6, 1), (1, 7, 1), (1, 8, 1), (1, 9, 1)]\n",
      "[(2, 3, 1), (2, 4, 1), (2, 5, 1), (2, 6, 1), (2, 7, 1), (2, 8, 1), (2, 9, 1)]\n",
      "[(3, 4, 1), (3, 5, 1), (3, 6, 1), (3, 7, 1), (3, 8, 1), (3, 9, 1)]\n",
      "[(4, 5, 1), (4, 6, 1), (4, 7, 1), (4, 8, 1), (4, 9, 1)]\n",
      "[(5, 6, 1), (5, 7, 1), (5, 8, 1), (5, 9, 1)]\n",
      "[(6, 7, 1), (6, 8, 1), (6, 9, 1)]\n",
      "[(7, 8, 1), (7, 9, 1)]\n",
      "[(8, 9, 1)]\n",
      "[]\n",
      "{'0': {'1': 0.1111111111111111, '2': 0.1111111111111111, '3': 0.1111111111111111, '4': 0.1111111111111111, '5': 0.1111111111111111, '6': 0.1111111111111111, '7': 0.1111111111111111, '8': 0.1111111111111111, '9': 0.1111111111111111}, '1': {'2': 0.125, '3': 0.125, '4': 0.125, '5': 0.125, '6': 0.125, '7': 0.125, '8': 0.125, '9': 0.125}, '2': {'3': 0.14285714285714285, '4': 0.14285714285714285, '5': 0.14285714285714285, '6': 0.14285714285714285, '7': 0.14285714285714285, '8': 0.14285714285714285, '9': 0.14285714285714285}, '3': {'4': 0.16666666666666666, '5': 0.16666666666666666, '6': 0.16666666666666666, '7': 0.16666666666666666, '8': 0.16666666666666666, '9': 0.16666666666666666}, '4': {'5': 0.2, '6': 0.2, '7': 0.2, '8': 0.2, '9': 0.2}, '5': {'6': 0.25, '7': 0.25, '8': 0.25, '9': 0.25}, '6': {'7': 0.3333333333333333, '8': 0.3333333333333333, '9': 0.3333333333333333}, '7': {'8': 0.5, '9': 0.5}, '8': {'9': 1.0}, '9': {}}\n",
      "Parsing the data...Done\n"
     ]
    },
    {
     "data": {
      "text/html": [
       "\n",
       "        <iframe\n",
       "            width=\"100%\"\n",
       "            height=\"650\"\n",
       "            src=\"http://127.0.0.1:8050/\"\n",
       "            frameborder=\"0\"\n",
       "            allowfullscreen\n",
       "            \n",
       "        ></iframe>\n",
       "        "
      ],
      "text/plain": [
       "<IPython.lib.display.IFrame at 0x10b0ee600>"
      ]
     },
     "metadata": {},
     "output_type": "display_data"
    },
    {
     "name": "stdout",
     "output_type": "stream",
     "text": [
      "No trigger\n"
     ]
    }
   ],
   "source": [
    "import graph_tools\n",
    "import networkx as nx\n",
    "import graph_viz as gv\n",
    "import LP as lp\n",
    "import graph_tools\n",
    "\n",
    "G = nx.complete_graph(10)\n",
    "\n",
    "DG = graph_tools.prepare_graph(G.nodes(), G.edges())\n",
    "\n",
    "nested_dict = nx.to_dict_of_dicts(DG)\n",
    "\n",
    "delegations = {\n",
    "    str(u): {str(v): attr['weight'] for v, attr in nbrs.items()} for u, nbrs in nested_dict.items()\n",
    "}\n",
    "\n",
    "powers, sinks = lp.resolve_delegations_LP(graph_tools.invert_graph(delegations), [str(node) for node in DG.nodes()])\n",
    "\n",
    "print(delegations)\n",
    "\n",
    "gv.visualize_delegation_graph(delegations, gv.clean_powers(powers, sinks))"
   ]
  },
  {
   "cell_type": "code",
   "execution_count": null,
   "id": "205fc0ed",
   "metadata": {},
   "outputs": [],
   "source": []
  }
 ],
 "metadata": {
  "kernelspec": {
   "display_name": "thesis",
   "language": "python",
   "name": "python3"
  },
  "language_info": {
   "codemirror_mode": {
    "name": "ipython",
    "version": 3
   },
   "file_extension": ".py",
   "mimetype": "text/x-python",
   "name": "python",
   "nbconvert_exporter": "python",
   "pygments_lexer": "ipython3",
   "version": "3.12.9"
  }
 },
 "nbformat": 4,
 "nbformat_minor": 5
}
