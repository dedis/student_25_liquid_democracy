{
 "cells": [
  {
   "cell_type": "code",
   "execution_count": 1,
   "id": "b6f436ce",
   "metadata": {},
   "outputs": [
    {
     "name": "stderr",
     "output_type": "stream",
     "text": [
      "/opt/anaconda3/envs/thesis/lib/python3.12/site-packages/dash_bootstrap_components/_table.py:5: UserWarning: \n",
      "The dash_html_components package is deprecated. Please replace\n",
      "`import dash_html_components as html` with `from dash import html`\n",
      "  import dash_html_components as html\n"
     ]
    }
   ],
   "source": [
    "import time\n",
    "import matplotlib.pyplot as plt\n",
    "\n",
    "import LE as le\n",
    "import LP as lp\n",
    "import iterative as iterative\n",
    "import graph_viz as viz\n",
    "import logger_creator\n",
    "import graph_tools\n",
    "\n",
    "from graph_gen import create_delegation_graph"
   ]
  },
  {
   "cell_type": "markdown",
   "id": "e616f285",
   "metadata": {},
   "source": [
    "# Testing normal graph"
   ]
  },
  {
   "cell_type": "code",
   "execution_count": 7,
   "id": "7d1ab974",
   "metadata": {},
   "outputs": [],
   "source": [
    "# Normal test graph\n",
    "import numpy as np\n",
    "\n",
    "delegations_orig, nodes = create_delegation_graph(5, 0, seed=0)\n"
   ]
  },
  {
   "cell_type": "code",
   "execution_count": null,
   "id": "aa62eaef",
   "metadata": {},
   "outputs": [],
   "source": [
    "delegations = graph_tools.invert_graph(delegations_orig)"
   ]
  },
  {
   "cell_type": "code",
   "execution_count": 9,
   "id": "84af8e06",
   "metadata": {},
   "outputs": [
    {
     "name": "stdout",
     "output_type": "stream",
     "text": [
      "LE model\n",
      "({'0': 1.0, '1': 1.2, '2': 1.8, '3': 0.0, '4': 1.0}, ['0', '1', '2', '4'])\n",
      "LP model\n",
      "{'0': 1.0, '1': 1.2, '2': 1.8, '3': 0.0, '4': 1.0, '__dummy': 0.0} ['0', '1', '2', '4']\n"
     ]
    }
   ],
   "source": [
    "print(\"LE model\")\n",
    "print(le.resolve_delegations(delegations, nodes))\n",
    "\n",
    "print(\"LP model\")\n",
    "powers, sinks = lp.resolve_delegations(delegations, nodes)\n",
    "print(powers, sinks)\n"
   ]
  },
  {
   "cell_type": "code",
   "execution_count": 10,
   "id": "f1dc8885",
   "metadata": {},
   "outputs": [],
   "source": [
    "le_model = le.set_up(delegations, nodes)\n",
    "lp_model = lp.set_up(delegations, nodes)"
   ]
  },
  {
   "cell_type": "code",
   "execution_count": 11,
   "id": "d4c23fdc",
   "metadata": {},
   "outputs": [
    {
     "name": "stdout",
     "output_type": "stream",
     "text": [
      "Parsing the data...Done\n"
     ]
    },
    {
     "data": {
      "text/html": [
       "\n",
       "        <iframe\n",
       "            width=\"100%\"\n",
       "            height=\"650\"\n",
       "            src=\"http://127.0.0.1:8050/\"\n",
       "            frameborder=\"0\"\n",
       "            allowfullscreen\n",
       "            \n",
       "        ></iframe>\n",
       "        "
      ],
      "text/plain": [
       "<IPython.lib.display.IFrame at 0x11ffd6690>"
      ]
     },
     "metadata": {},
     "output_type": "display_data"
    },
    {
     "name": "stdout",
     "output_type": "stream",
     "text": [
      "No trigger\n"
     ]
    }
   ],
   "source": [
    "viz.visualize_delegation_graph(delegations_orig, powers)"
   ]
  },
  {
   "cell_type": "code",
   "execution_count": 12,
   "id": "c49acc1a",
   "metadata": {},
   "outputs": [
    {
     "name": "stdout",
     "output_type": "stream",
     "text": [
      "3.43 μs ± 31.3 ns per loop (mean ± std. dev. of 7 runs, 100,000 loops each)\n",
      "17.5 ms ± 384 μs per loop (mean ± std. dev. of 7 runs, 100 loops each)\n"
     ]
    }
   ],
   "source": [
    "%timeit le.solve(*le_model)\n",
    "%timeit lp.solve(*lp_model)"
   ]
  },
  {
   "cell_type": "markdown",
   "id": "ef6f1d31",
   "metadata": {},
   "source": [
    "Results:\n",
    "\n",
    "LE: 3.43 μs ± 31.3 ns per loop (mean ± std. dev. of 7 runs, 100,000 loops each)\n",
    "\n",
    "LP: 17.5 ms ± 384 μs per loop (mean ± std. dev. of 7 runs, 100 loops each)"
   ]
  },
  {
   "cell_type": "markdown",
   "id": "861bdb81",
   "metadata": {},
   "source": [
    "# Big Graph"
   ]
  },
  {
   "cell_type": "code",
   "execution_count": null,
   "id": "9f1d3e9e",
   "metadata": {},
   "outputs": [
    {
     "name": "stdout",
     "output_type": "stream",
     "text": [
      "Found same sinks: True\n",
      "Found same powers: True\n",
      "Node LE, LP, iterative\n",
      "Unless indicated otherwise, the rounded powers found in the iterative model are also the same\n"
     ]
    }
   ],
   "source": [
    "delegations_org, nodes = create_delegation_graph(10000, 100, seed=0)\n",
    "delegations = graph_tools.invert_graph(delegations_org)\n",
    "\n",
    "powers_le, sinks_le = lp.resolve_delegations(delegations, nodes)\n",
    "\n",
    "powers_lp, sinks_lp = lp.resolve_delegations(delegations, nodes)\n",
    "\n",
    "print(f\"Found same sinks: {sinks_le == sinks_lp}\")\n",
    "print(f\"Found same powers: {powers_le == powers_lp}\")\n",
    "\n",
    "\n",
    "le_model = le.set_up(delegations, nodes)\n",
    "lp_model = lp.set_up(delegations, nodes)\n",
    "\n",
    "powers_iter = iterative.iterate_delegations(delegations, nodes)\n",
    "\n",
    "for node in sinks_le:\n",
    "    if (powers_le[node] - powers_iter[node] < 0.01):\n",
    "        continue\n",
    "    else: \n",
    "        print(\"Found non-matching powers for Node\", node, \":\",  powers_le[node], powers_lp[node], powers_iter[node])\n",
    "\n",
    "print(\"Unless indicated otherwise, the rounded powers found in the iterative model are also the same\")"
   ]
  },
  {
   "cell_type": "code",
   "execution_count": 23,
   "id": "a5c1f586",
   "metadata": {},
   "outputs": [
    {
     "name": "stdout",
     "output_type": "stream",
     "text": [
      "4.13 s ± 178 ms per loop (mean ± std. dev. of 7 runs, 1 loop each)\n",
      "149 ms ± 768 μs per loop (mean ± std. dev. of 7 runs, 1 loop each)\n",
      "6.43 s ± 116 ms per loop (mean ± std. dev. of 7 runs, 1 loop each)\n"
     ]
    }
   ],
   "source": [
    "%timeit le.solve(*le_model)\n",
    "%timeit lp.solve(*lp_model)\n",
    "%timeit iterative.iterate_delegations(delegations, nodes)"
   ]
  },
  {
   "cell_type": "markdown",
   "id": "7b0e5dd3",
   "metadata": {},
   "source": [
    "Results\n",
    "\n",
    "10 000 nodes, 100 loops\n",
    "\n",
    "LE: 4.13 s ± 178 ms per loop (mean ± std. dev. of 7 runs, 1 loop each)\n",
    "\n",
    "**LP: 149 ms ± 768 μs per loop (mean ± std. dev. of 7 runs, 1 loop each)**\n",
    "\n",
    "Iter: 6.43 s ± 116 ms per loop (mean ± std. dev. of 7 runs, 1 loop each)"
   ]
  },
  {
   "cell_type": "markdown",
   "id": "5f6953ca",
   "metadata": {},
   "source": [
    "# Fine delegations"
   ]
  },
  {
   "cell_type": "code",
   "execution_count": null,
   "id": "31c106b2",
   "metadata": {},
   "outputs": [
    {
     "name": "stdout",
     "output_type": "stream",
     "text": [
      "Found same sinks: True\n",
      "Found same powers: True\n",
      "Powers from LE: {'0': 0.0, '1': 3.0, '2': 0.0, '__dummy': 0.0}\n",
      "Powers after iteration: {'0': 0.0009999998251094596, '1': 2.9980000003482634, '2': 0.0009999998250995162}\n",
      "Parsing the data...Done\n"
     ]
    },
    {
     "data": {
      "text/html": [
       "\n",
       "        <iframe\n",
       "            width=\"100%\"\n",
       "            height=\"650\"\n",
       "            src=\"http://127.0.0.1:8050/\"\n",
       "            frameborder=\"0\"\n",
       "            allowfullscreen\n",
       "            \n",
       "        ></iframe>\n",
       "        "
      ],
      "text/plain": [
       "<IPython.lib.display.IFrame at 0x12ec405f0>"
      ]
     },
     "metadata": {},
     "output_type": "display_data"
    },
    {
     "name": "stdout",
     "output_type": "stream",
     "text": [
      "No trigger\n",
      "No trigger\n"
     ]
    }
   ],
   "source": [
    "fine_delegation_weight = 10 ** -6\n",
    "\n",
    "delegations_org = {\n",
    "    '0': {'1': fine_delegation_weight,\n",
    "          '2': 1 - fine_delegation_weight},\n",
    "    '2': {'0': 1}\n",
    "}\n",
    "nodes = ['0', '1', '2']\n",
    "delegations = graph_tools.invert_graph(delegations_org)\n",
    "\n",
    "powers_le, sinks_le = lp.resolve_delegations(delegations, nodes)\n",
    "\n",
    "powers_lp, sinks_lp = lp.resolve_delegations(delegations, nodes)\n",
    "\n",
    "print(f\"Found same sinks: {sinks_le == sinks_lp}\")\n",
    "print(f\"Found same powers: {powers_le == powers_lp}\")\n",
    "\n",
    "\n",
    "le_model = le.set_up(delegations, nodes)\n",
    "lp_model = lp.set_up(delegations, nodes)\n",
    "\n",
    "powers_iter = iterative.iterate_delegations(delegations, nodes)\n",
    "\n",
    "print(\"Powers from LE:\", powers_le)\n",
    "print(\"Powers after iteration:\", powers_iter)\n",
    "\n",
    "viz.visualize_delegation_graph(delegations_org, powers_iter)\n"
   ]
  },
  {
   "cell_type": "code",
   "execution_count": 10,
   "id": "9a6c4e32",
   "metadata": {},
   "outputs": [
    {
     "name": "stdout",
     "output_type": "stream",
     "text": [
      "3.4 μs ± 19.2 ns per loop (mean ± std. dev. of 7 runs, 100,000 loops each)\n",
      "\n",
      "17.5 ms ± 203 μs per loop (mean ± std. dev. of 7 runs, 100 loops each)\n",
      "\n",
      "14 s ± 173 ms per loop (mean ± std. dev. of 7 runs, 1 loop each)\n"
     ]
    }
   ],
   "source": [
    "%timeit le.solve(*le_model)\n",
    "print(\"\")\n",
    "%timeit lp.solve(*lp_model)\n",
    "print(\"\")\n",
    "%timeit iterative.iterate_delegations(delegations, nodes)"
   ]
  },
  {
   "cell_type": "markdown",
   "id": "dd431f0e",
   "metadata": {},
   "source": [
    "## Results\n",
    "\n",
    "LE\n",
    "\n",
    "LP\n",
    "\n",
    "Iterative\n",
    "\n",
    "### fine_delegation_weight = 10 ** -2\n",
    "\n",
    "**3.32 μs ± 19.4 ns per loop (mean ± std. dev. of 7 runs, 100,000 loops each)**\n",
    "\n",
    "17.6 ms ± 136 μs per loop (mean ± std. dev. of 7 runs, 100 loops each)\n",
    "\n",
    "1.5 ms ± 38.2 μs per loop (mean ± std. dev. of 7 runs, 1,000 loops each)\n",
    "\n",
    "Notice, here, the LP solver is the slowest\n",
    "\n",
    "\n",
    "### fine_delegation_weight = 10 ** -6\n",
    "\n",
    "**3.4 μs ± 19.2 ns per loop (mean ± std. dev. of 7 runs, 100,000 loops each)**\n",
    "\n",
    "17.5 ms ± 203 μs per loop (mean ± std. dev. of 7 runs, 100 loops each)\n",
    "\n",
    "14 s ± 173 ms per loop (mean ± std. dev. of 7 runs, 1 loop each)\n",
    "\n",
    "Notice, that here, the iterative solver performs a lot worse, while the LP solver's runtime barely changes.\n",
    "\n"
   ]
  },
  {
   "cell_type": "markdown",
   "id": "0914c73d",
   "metadata": {},
   "source": [
    "## Graph of Runtimes, as graph size increases, but graph complexity stays constant"
   ]
  },
  {
   "cell_type": "code",
   "execution_count": null,
   "id": "e77afa76",
   "metadata": {},
   "outputs": [
    {
     "name": "stdout",
     "output_type": "stream",
     "text": [
      "0\n",
      "1\n",
      "2\n",
      "3\n",
      "4\n",
      "5\n",
      "6\n",
      "7\n",
      "8\n",
      "9\n",
      "10\n",
      "11\n",
      "0.06950183868408204\n",
      "12\n",
      "0.0012451505661010742\n",
      "13\n",
      "14\n",
      "15\n",
      "16\n",
      "17\n",
      "18\n",
      "19\n"
     ]
    },
    {
     "data": {
      "image/png": "[encoded data removed]",
      "text/plain": [
       "<Figure size 640x480 with 1 Axes>"
      ]
     },
     "metadata": {},
     "output_type": "display_data"
    }
   ],
   "source": [
    "LOOPS = 3#5\n",
    "SEED = 100\n",
    "\n",
    "range_x = range(0, 20, 1)\n",
    "\n",
    "time_data_le = []\n",
    "time_data_lp = []\n",
    "time_data_iterative = []\n",
    "\n",
    "logger, handler = logger_creator.create_logger(\"benchmarking\")\n",
    "\n",
    "for num_loops in range(1):\n",
    "    times_le = []\n",
    "    times_lp = []\n",
    "    times_iterative = []\n",
    "\n",
    "    for num_nodes in range_x:\n",
    "        print(num_nodes)\n",
    "\n",
    "        countdown = 5\n",
    "        while countdown > 0:\n",
    "            countdown -= 1\n",
    "\n",
    "            delegations_orig, nodes = create_delegation_graph(num_nodes, LOOPS, seed=SEED)\n",
    "            delegations= graph_tools.invert_graph(delegations_orig)\n",
    "            try: \n",
    "                le_model = le.set_up(delegations, nodes)\n",
    "                _ = le.resolve_delegations(delegations, nodes)\n",
    "                break\n",
    "            except:\n",
    "                print(le_model)\n",
    "                SEED += 1\n",
    "                print(\"Graph infeasible, retrying\")\n",
    "\n",
    "        # Verify the solutions are equal\n",
    "        powers_le, sinks_le = lp.resolve_delegations(delegations, nodes)\n",
    "        powers_lp, sinks_lp = lp.resolve_delegations(delegations, nodes)\n",
    "        powers_iter = iterative.iterate_delegations(delegations, nodes)\n",
    "\n",
    "        # --------------------\n",
    "        # 21 should be 0.001s\n",
    "        # 16 should be 0.02s\n",
    "        if num_nodes == 11 :\n",
    "            graph_11 = delegations_orig, powers_lp\n",
    "            \n",
    "        if num_nodes == 12:\n",
    "            graph_12 = delegations_orig, powers_lp\n",
    "        # --------------------\n",
    "\n",
    "        if powers_le != powers_lp:\n",
    "            logger.error(\"Powers do not match\")\n",
    "            logger.error(f\"LE: {powers_le}\")\n",
    "            logger.error(f\"LP: {powers_lp}\")\n",
    "            print(\"Mismatching powers in LE and LP. Check the log file for details.\")\n",
    "            break\n",
    "\n",
    "        for node in sinks_le:\n",
    "            if (powers_lp[node] - powers_iter[node] < 0.01):\n",
    "                continue\n",
    "            else: \n",
    "                logger.error(\"Powers do not match\")\n",
    "                logger.error(f\"LP: {powers_lp}\")\n",
    "                logger.error(f\"Iterative: {powers_iter}\")\n",
    "                print(\"Mismatching powers in LP and Iterative. Check the log file for details.\")\n",
    "                break\n",
    "\n",
    "        n = 10\n",
    "        if 0 <= num_nodes < 500:\n",
    "            n = 100\n",
    "        elif 500 <= num_nodes < 1000:\n",
    "            n = 50\n",
    "\n",
    "        # LE\n",
    "        start_time = time.time()\n",
    "        le_model = le.set_up(delegations, nodes)\n",
    "        for _ in range(n):\n",
    "            le.solve(*le_model)\n",
    "        end_time = time.time()\n",
    "        \n",
    "        times_le.append((end_time - start_time) / n)\n",
    "\n",
    "        # LP\n",
    "        start_time = time.time()\n",
    "        lp_model = lp.set_up(delegations, nodes)\n",
    "        for _ in range(n):\n",
    "            lp.solve(*lp_model)\n",
    "        end_time = time.time()\n",
    "\n",
    "        times_lp.append((end_time - start_time) / n)\n",
    "\n",
    "        \n",
    "\n",
    "        # Iterative\n",
    "        start_time = time.time()\n",
    "        for _ in range(n):\n",
    "            p = iterative.iterate_delegations(delegations, nodes)\n",
    "        end_time = time.time()\n",
    "\n",
    "        times_iterative.append((end_time - start_time) / n)\n",
    "\n",
    "        # --------------------\n",
    "        # 21 should be 0.001s\n",
    "        # 16 should be 0.02s\n",
    "        if num_nodes == 11 or num_nodes == 12:\n",
    "            print(times_iterative[-1])\n",
    "        # --------------------\n",
    "\n",
    "\n",
    "    time_data_le.append(times_le)\n",
    "    time_data_lp.append(times_lp)\n",
    "    time_data_iterative.append(times_iterative)\n",
    "\n",
    "logger.removeHandler(handler)\n",
    "handler.close()\n",
    "\n",
    "x = list(range_x)\n",
    "\n",
    "plt.clf()\n",
    "\n",
    "for i in range(len(time_data_lp)):\n",
    "    plt.plot(x, time_data_le[i], label=f\"LE\")\n",
    "    plt.plot(x, time_data_lp[i], label=f\"LP\") \n",
    "    plt.plot(x, time_data_iterative[i], label=f\"Iterative\")  \n",
    "\n",
    "plt.legend()\n",
    "plt.xlabel(\"Amount of Nodes\")\n",
    "plt.ylabel(\"Time (s)\")\n",
    "plt.title(\"Runtime of Delegation Algorithms\")\n",
    "plt.show()"
   ]
  },
  {
   "cell_type": "code",
   "execution_count": null,
   "id": "f01ade3e",
   "metadata": {},
   "outputs": [
    {
     "name": "stdout",
     "output_type": "stream",
     "text": [
      "Parsing the data...Done\n"
     ]
    },
    {
     "data": {
      "text/html": [
       "\n",
       "        <iframe\n",
       "            width=\"100%\"\n",
       "            height=\"650\"\n",
       "            src=\"http://127.0.0.1:8050/\"\n",
       "            frameborder=\"0\"\n",
       "            allowfullscreen\n",
       "            \n",
       "        ></iframe>\n",
       "        "
      ],
      "text/plain": [
       "<IPython.lib.display.IFrame at 0x1474414c0>"
      ]
     },
     "metadata": {},
     "output_type": "display_data"
    },
    {
     "name": "stdout",
     "output_type": "stream",
     "text": [
      "No trigger\n",
      "No trigger\n",
      "No trigger\n",
      "No trigger\n",
      "No trigger\n",
      "No trigger\n",
      "No trigger\n",
      "No trigger\n",
      "No trigger\n",
      "No trigger\n"
     ]
    }
   ],
   "source": [
    "delegations_12, powers_12 = graph_12\n",
    "deelgations_11, powers_11 = graph_11\n",
    "\n",
    "powers_12 = {f\"{k}_g12\": v for k, v in powers_12.items()}\n",
    "delegations_12 = {\n",
    "    f\"{outer}_g12\": {f\"{inner}_g12\": v for inner, v in inner_dict.items()}\n",
    "    for outer, inner_dict in delegations_12.items()\n",
    "}\n",
    "\n",
    "delegations_merged = deelgations_11| delegations_12\n",
    "powers_merged = powers_11 | powers_12\n",
    "\n",
    "\n",
    "\n",
    "viz.visualize_delegation_graph(delegations_merged, powers_merged)"
   ]
  },
  {
   "cell_type": "markdown",
   "id": "4da00da4",
   "metadata": {},
   "source": [
    "5 loops\n",
    "\n",
    "![Benchmark Plot](Figures/2025-05-05%20Benchmarks/0-3.5k%20noddes.png)\n",
    "\n",
    "![Benchmark Plot](Figures/2025-05-05%20Benchmarks/0-2k%20nodes.png)\n",
    "\n",
    "4 loops, seed = 0\n",
    "\n",
    "![Benchmark Plot](Figures/2025-05-05%20Benchmarks/0-30%20nodes.png)\n",
    "\n",
    "We see, that when the graph has 11 nodes, we get a spike in runtime (0.07s), while the graph with 12 nodes has a lower runtime (0.001s), lower than even the graph with 10 nodes. Inspecting these two graphs (11 and 12 nodes) further reveals, that the graph with 11 nodes has a particularly inefficient loop. \n",
    "\n",
    "\n",
    "\n",
    "\n"
   ]
  },
  {
   "cell_type": "code",
   "execution_count": null,
   "id": "5db4f7dc",
   "metadata": {},
   "outputs": [],
   "source": [
    "#  Nodes 0 -> 60 000, step 10 000\n",
    "\n",
    "\n",
    "with open(\"../data/large_graph_no_loops.json\", \"r\") as fd:\n",
    "    y = json.load(fd)\n",
    "\n",
    "plt.figure()\n",
    "plt.plot(x, y, label=f\"LP\")\n",
    "plt.legend()\n",
    "plt.xlabel(\"Amount of Nodes\")\n",
    "plt.ylabel(\"Time (s)\")\n",
    "plt.title(\"Runtime of Delegation Algorithms\")\n",
    "plt.show()\n",
    "\n",
    "plt.figure()\n",
    "plt.yscale(\"log\")\n",
    "plt.plot(x, y, label=f\"LP\") \n",
    "plt.legend()\n",
    "plt.xlabel(\"Amount of Nodes\")\n",
    "plt.ylabel(\"Time (s) (log scale)\")\n",
    "plt.title(\"Runtime of Delegation Algorithms (log scale)\")\n",
    "plt.show()\n",
    "\n",
    "plt.legend()\n",
    "plt.xlabel(\"Amount of Nodes\")\n",
    "plt.ylabel(\"Time (s)\")\n",
    "plt.title(\"Runtime of Delegation Algorithms\")\n",
    "plt.show()\n",
    "\n"
   ]
  }
 ],
 "metadata": {
  "kernelspec": {
   "display_name": "thesis",
   "language": "python",
   "name": "python3"
  },
  "language_info": {
   "codemirror_mode": {
    "name": "ipython",
    "version": 3
   },
   "file_extension": ".py",
   "mimetype": "text/x-python",
   "name": "python",
   "nbconvert_exporter": "python",
   "pygments_lexer": "ipython3",
   "version": "3.12.9"
  }
 },
 "nbformat": 4,
 "nbformat_minor": 5
}
