{
 "cells": [
  {
   "cell_type": "code",
   "execution_count": null,
   "id": "fff7ca28",
   "metadata": {},
   "outputs": [
    {
     "name": "stderr",
     "output_type": "stream",
     "text": [
      "/opt/anaconda3/envs/thesis/lib/python3.12/site-packages/dash_bootstrap_components/_table.py:5: UserWarning: \n",
      "The dash_html_components package is deprecated. Please replace\n",
      "`import dash_html_components as html` with `from dash import html`\n",
      "  import dash_html_components as html\n"
     ]
    }
   ],
   "source": [
    "import graph_vis as viz\n",
    "import networkx as nx\n",
    "import graph_tools\n",
    "import LE as le\n",
    "import LP as lp\n",
    "import iterative"
   ]
  },
  {
   "cell_type": "code",
   "execution_count": 4,
   "id": "0a807a0d",
   "metadata": {},
   "outputs": [],
   "source": [
    "num_nodes = 9\n",
    "big_loop = nx.DiGraph()\n",
    "# We're creating a graph with one node too many technically\n",
    "for i in range(num_nodes):\n",
    "    if i == 0:\n",
    "        # Add split edge: 0.9 to the next node\n",
    "        big_loop.add_edge(i, (i + 1) % num_nodes, weight=0.9)\n",
    "        # Add the external node and edge with weight 0.1\n",
    "        big_loop.add_edge(i, num_nodes, weight=0.1)  # external node has index `n`\n",
    "    else:\n",
    "        big_loop.add_edge(i, (i + 1) % num_nodes, weight=1.0)\n",
    "\n",
    "delegations = graph_tools.nx_graph_to_dict(big_loop)\n",
    "powers, _ = le.resolve_delegations(graph_tools.invert_graph(delegations), nodes=[str(i) for i in range(10)])\n",
    "\n",
    "#viz.visualize_delegation_graph(delegations, powers)"
   ]
  },
  {
   "cell_type": "code",
   "execution_count": null,
   "id": "32dc4177",
   "metadata": {},
   "outputs": [
    {
     "name": "stdout",
     "output_type": "stream",
     "text": [
      "it {'A': 0.9, 'B': 1.1}\n",
      "it {'A': 0.81, 'B': 1.1900000000000002}\n",
      "it {'A': 0.7290000000000001, 'B': 1.2710000000000001}\n",
      "it {'A': 0.6561000000000001, 'B': 1.3439}\n",
      "it {'A': 0.5904900000000001, 'B': 1.40951}\n",
      "it {'A': 0.531441, 'B': 1.468559}\n",
      "it {'A': 0.4782969, 'B': 1.5217030999999999}\n",
      "it {'A': 0.43046721, 'B': 1.5695327899999998}\n",
      "it {'A': 0.387420489, 'B': 1.6125795109999999}\n",
      "it {'A': 0.3486784401, 'B': 1.6513215599}\n",
      "it {'A': 0.31381059609, 'B': 1.68618940391}\n",
      "it {'A': 0.282429536481, 'B': 1.7175704635190001}\n",
      "it {'A': 0.2541865828329, 'B': 1.7458134171671}\n",
      "it {'A': 0.22876792454961, 'B': 1.77123207545039}\n",
      "it {'A': 0.20589113209464902, 'B': 1.7941088679053512}\n",
      "it {'A': 0.1853020188851841, 'B': 1.814697981114816}\n",
      "it {'A': 0.16677181699666568, 'B': 1.8332281830033346}\n",
      "it {'A': 0.15009463529699912, 'B': 1.849905364703001}\n",
      "it {'A': 0.1350851717672992, 'B': 1.864914828232701}\n",
      "it {'A': 0.12157665459056928, 'B': 1.878423345409431}\n",
      "it {'A': 0.10941898913151235, 'B': 1.890581010868488}\n",
      "it {'A': 0.09847709021836111, 'B': 1.9015229097816393}\n",
      "it {'A': 0.088629381196525, 'B': 1.9113706188034754}\n",
      "it {'A': 0.0797664430768725, 'B': 1.920233556923128}\n",
      "it {'A': 0.07178979876918525, 'B': 1.928210201230815}\n",
      "it {'A': 0.06461081889226672, 'B': 1.9353891811077337}\n",
      "it {'A': 0.05814973700304005, 'B': 1.9418502629969603}\n",
      "it {'A': 0.052334763302736044, 'B': 1.9476652366972642}\n",
      "it {'A': 0.047101286972462436, 'B': 1.952898713027538}\n",
      "it {'A': 0.042391158275216195, 'B': 1.957608841724784}\n",
      "it {'A': 0.03815204244769457, 'B': 1.9618479575523058}\n",
      "it {'A': 0.034336838202925116, 'B': 1.9656631617970752}\n",
      "it {'A': 0.030903154382632605, 'B': 1.9690968456173676}\n",
      "it {'A': 0.027812838944369346, 'B': 1.972187161055631}\n",
      "it {'A': 0.02503155504993241, 'B': 1.974968444950068}\n",
      "it {'A': 0.022528399544939168, 'B': 1.9774716004550612}\n",
      "it {'A': 0.02027555959044525, 'B': 1.979724440409555}\n",
      "it {'A': 0.018248003631400726, 'B': 1.9817519963685997}\n",
      "it {'A': 0.016423203268260654, 'B': 1.9835767967317397}\n",
      "it {'A': 0.014780882941434589, 'B': 1.9852191170585658}\n",
      "it {'A': 0.01330279464729113, 'B': 1.9866972053527092}\n",
      "it {'A': 0.011972515182562017, 'B': 1.9880274848174384}\n",
      "it {'A': 0.010775263664305815, 'B': 1.9892247363356945}\n",
      "it {'A': 0.009697737297875235, 'B': 1.9903022627021252}\n",
      "it {'A': 0.00872796356808771, 'B': 1.9912720364319128}\n",
      "{'A': 0.0, 'B': 1.1}\n",
      "{'A': 0.0, 'B': 1.1, '__dummy': 0.0}\n",
      "{'A': 0.00872796356808771, 'B': 1.9912720364319128}\n"
     ]
    }
   ],
   "source": [
    "# invalid graph \n",
    "\n",
    "delegations = {\n",
    "    'A': {'B': 0.1}\n",
    "}\n",
    "\n",
    "nodes = ['A', 'B']\n",
    "\n",
    "powers_le, _ = le.resolve_delegations(graph_tools.invert_graph(delegations), nodes)\n",
    "powers_lp, _ = lp.resolve_delegations(graph_tools.invert_graph(delegations), nodes)\n",
    "powers_it = iterative.iterate_delegations(graph_tools.invert_graph(delegations), nodes)\n",
    "\n",
    "print(powers_le)\n",
    "print(powers_lp)\n",
    "print(powers_it)"
   ]
  },
  {
   "cell_type": "code",
   "execution_count": 33,
   "id": "e053b165",
   "metadata": {},
   "outputs": [
    {
     "name": "stdout",
     "output_type": "stream",
     "text": [
      "Parsing the data...Done\n"
     ]
    },
    {
     "data": {
      "text/html": [
       "\n",
       "        <iframe\n",
       "            width=\"100%\"\n",
       "            height=\"650\"\n",
       "            src=\"http://127.0.0.1:8050/\"\n",
       "            frameborder=\"0\"\n",
       "            allowfullscreen\n",
       "            \n",
       "        ></iframe>\n",
       "        "
      ],
      "text/plain": [
       "<IPython.lib.display.IFrame at 0x106aa6c90>"
      ]
     },
     "metadata": {},
     "output_type": "display_data"
    },
    {
     "name": "stdout",
     "output_type": "stream",
     "text": [
      "Graph visualization failed because no ports were found or there was another error.\n"
     ]
    },
    {
     "name": "stdout",
     "output_type": "stream",
     "text": [
      "No trigger\n"
     ]
    }
   ],
   "source": [
    "delegations = {\n",
    "    'A': {'B': 0.1, 'A': 0.9},\n",
    "    'B': {}\n",
    "}\n",
    "\n",
    "viz.visualize_delegation_graph(delegations)"
   ]
  },
  {
   "cell_type": "code",
   "execution_count": 42,
   "id": "e9c52b99",
   "metadata": {},
   "outputs": [
    {
     "name": "stdout",
     "output_type": "stream",
     "text": [
      "Parsing the data...Done\n"
     ]
    },
    {
     "data": {
      "text/html": [
       "\n",
       "        <iframe\n",
       "            width=\"100%\"\n",
       "            height=\"650\"\n",
       "            src=\"http://127.0.0.1:8050/\"\n",
       "            frameborder=\"0\"\n",
       "            allowfullscreen\n",
       "            \n",
       "        ></iframe>\n",
       "        "
      ],
      "text/plain": [
       "<IPython.lib.display.IFrame at 0x1674f0620>"
      ]
     },
     "metadata": {},
     "output_type": "display_data"
    },
    {
     "name": "stdout",
     "output_type": "stream",
     "text": [
      "Graph visualization failed because no ports were found or there was another error.\n"
     ]
    },
    {
     "name": "stdout",
     "output_type": "stream",
     "text": [
      "No trigger\n"
     ]
    }
   ],
   "source": [
    "delegations = {\n",
    "    'A': {'B': 0.1},\n",
    "    'B': {}\n",
    "}\n",
    "\n",
    "viz.visualize_delegation_graph(delegations)"
   ]
  },
  {
   "cell_type": "code",
   "execution_count": 44,
   "id": "486608d3",
   "metadata": {},
   "outputs": [
    {
     "name": "stdout",
     "output_type": "stream",
     "text": [
      "Parsing the data...Done\n"
     ]
    },
    {
     "data": {
      "text/html": [
       "\n",
       "        <iframe\n",
       "            width=\"100%\"\n",
       "            height=\"650\"\n",
       "            src=\"http://127.0.0.1:8050/\"\n",
       "            frameborder=\"0\"\n",
       "            allowfullscreen\n",
       "            \n",
       "        ></iframe>\n",
       "        "
      ],
      "text/plain": [
       "<IPython.lib.display.IFrame at 0x1674f10a0>"
      ]
     },
     "metadata": {},
     "output_type": "display_data"
    },
    {
     "name": "stdout",
     "output_type": "stream",
     "text": [
      "Graph visualization failed because no ports were found or there was another error.\n"
     ]
    },
    {
     "name": "stdout",
     "output_type": "stream",
     "text": [
      "No trigger\n",
      "No trigger\n",
      "No trigger\n",
      "No trigger\n"
     ]
    }
   ],
   "source": [
    "delegations = {\n",
    "    'A  ': {'A  ': 1},\n",
    "    # ---\n",
    "    'A ': {'B ': 1},\n",
    "    'B ': {'A ': 1},\n",
    "    # ---\n",
    "    'A': {'B': 0.5, 'C': 0.5},\n",
    "    'B': {'C': 1},\n",
    "    'C': {'A': 1},\n",
    "}\n",
    "\n",
    "\n",
    "\n",
    "viz.visualize_delegation_graph(delegations)"
   ]
  },
  {
   "cell_type": "code",
   "execution_count": null,
   "id": "59eff234",
   "metadata": {},
   "outputs": [],
   "source": []
  }
 ],
 "metadata": {
  "kernelspec": {
   "display_name": "thesis",
   "language": "python",
   "name": "python3"
  },
  "language_info": {
   "codemirror_mode": {
    "name": "ipython",
    "version": 3
   },
   "file_extension": ".py",
   "mimetype": "text/x-python",
   "name": "python",
   "nbconvert_exporter": "python",
   "pygments_lexer": "ipython3",
   "version": "3.12.9"
  }
 },
 "nbformat": 4,
 "nbformat_minor": 5
}
