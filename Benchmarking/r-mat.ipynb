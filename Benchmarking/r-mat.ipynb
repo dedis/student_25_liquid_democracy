{
 "cells": [
  {
   "cell_type": "code",
   "execution_count": 2,
   "id": "95c9c9f9",
   "metadata": {},
   "outputs": [
    {
     "name": "stderr",
     "output_type": "stream",
     "text": [
      "/opt/anaconda3/envs/thesis/lib/python3.12/site-packages/dash_bootstrap_components/_table.py:5: UserWarning: \n",
      "The dash_html_components package is deprecated. Please replace\n",
      "`import dash_html_components as html` with `from dash import html`\n",
      "  import dash_html_components as html\n"
     ]
    }
   ],
   "source": [
    "import sys, os\n",
    "sys.path.append(os.path.abspath(\"/Users/DavidHolzwarth/Uni/EPFL/bachelors-thesis\"))\n",
    "\n",
    "import time\n",
    "import matplotlib.pyplot as plt\n",
    "\n",
    "import LE as le\n",
    "import LP as lp\n",
    "import iterative as iterative\n",
    "import logger_creator\n",
    "\n",
    "import graph_tools\n",
    "import graph_viz as viz\n",
    "import networkx as nx\n",
    "import numpy as np\n",
    "import pandas as pd\n",
    "import random"
   ]
  },
  {
   "cell_type": "code",
   "execution_count": null,
   "id": "ae201cd2",
   "metadata": {},
   "outputs": [
    {
     "data": {
      "text/plain": [
       "<module 'graph_viz' from '/Users/DavidHolzwarth/Uni/EPFL/bachelors-thesis/graph_viz.py'>"
      ]
     },
     "execution_count": 33,
     "metadata": {},
     "output_type": "execute_result"
    },
    {
     "ename": "",
     "evalue": "",
     "output_type": "error",
     "traceback": [
      "\u001b[1;31mnotebook controller is DISPOSED. \n",
      "\u001b[1;31mWeitere Details finden Sie in Jupyter <a href='command:jupyter.viewOutput'>log</a>."
     ]
    }
   ],
   "source": [
    "import importlib\n",
    "importlib.reload(viz)"
   ]
  },
  {
   "cell_type": "code",
   "execution_count": 3,
   "id": "c64849ca",
   "metadata": {},
   "outputs": [],
   "source": [
    "def generate_rmat_edge(N, A, B, C, D):\n",
    "    \"\"\"\n",
    "    Recursively generate a single edge based on R-MAT quadrant probabilities.\n",
    "    \"\"\"\n",
    "    src, dst = 0, 0\n",
    "    step = N // 2\n",
    "    while step > 0:\n",
    "        p = random.random()\n",
    "        if p < A:\n",
    "            pass  # top-left quadrant\n",
    "        elif p < A + B:\n",
    "            dst += step  # top-right\n",
    "        elif p < A + B + C:\n",
    "            src += step  # bottom-left\n",
    "        else:\n",
    "            src += step\n",
    "            dst += step  # bottom-right\n",
    "        step //= 2\n",
    "    return src, dst\n",
    "\n",
    "def generate_rmat_multidigraph(N, M, A=0.45, B=0.15, C=0.15, D=0.25, seed=None):\n",
    "    if seed is not None:\n",
    "        random.seed(seed)\n",
    "\n",
    "    G = nx.MultiDiGraph()\n",
    "    G.add_nodes_from(range(N))\n",
    "\n",
    "    for _ in range(M):\n",
    "        src, dst = generate_rmat_edge(N, A, B, C, D)\n",
    "        G.add_edge(src, dst)\n",
    "\n",
    "    return G\n",
    "\n",
    "def collapse_multiedges_to_weighted_digraph(multi_graph: nx.MultiDiGraph) -> nx.DiGraph:\n",
    "    \"\"\"\n",
    "    Convert a MultiDiGraph to a DiGraph, summing the count of parallel edges\n",
    "    into a 'weight' attribute for each edge.\n",
    "    \"\"\"\n",
    "    digraph = nx.DiGraph()\n",
    "\n",
    "    # Add nodes to the new graph (copy all node attributes)\n",
    "    digraph.add_nodes_from(multi_graph.nodes(data=True))\n",
    "\n",
    "    # Count edges and assign weight\n",
    "    for u, v in multi_graph.edges():\n",
    "        if digraph.has_edge(u, v):\n",
    "            digraph[u][v]['weight'] += 1\n",
    "        else:\n",
    "            digraph.add_edge(u, v, weight=1)\n",
    "\n",
    "    return digraph\n",
    "\n",
    "def remove_low_weight_edges(G: nx.DiGraph, threshold: int = 2):\n",
    "    \"\"\"\n",
    "    Removes all edges from G where the 'weight' attribute is less than the given threshold.\n",
    "    This modifies G in-place.\n",
    "    \"\"\"\n",
    "    edges_to_remove = [(u, v) for u, v, data in G.edges(data=True) if data.get(\"weight\", 0) < threshold]\n",
    "    G.remove_edges_from(edges_to_remove)\n"
   ]
  },
  {
   "cell_type": "code",
   "execution_count": 29,
   "id": "a6daf791",
   "metadata": {},
   "outputs": [
    {
     "name": "stdout",
     "output_type": "stream",
     "text": [
      "[(0, 12), (0, 3), (0, 21), (0, 0), (0, 1), (0, 20), (0, 2), (0, 25), (0, 22), (1, 1), (1, 11), (1, 2), (1, 6), (1, 0), (1, 10), (2, 22), (2, 2), (2, 13), (2, 12), (2, 18), (3, 3), (3, 13), (5, 0), (5, 16), (5, 1), (5, 5), (6, 1), (6, 22), (6, 5), (6, 6), (7, 7), (10, 13), (10, 10), (10, 15), (10, 11), (10, 1), (11, 0), (11, 1), (11, 16), (12, 12), (12, 30), (13, 18), (13, 13), (15, 37), (15, 15), (15, 30), (17, 18), (17, 7), (18, 18), (20, 21), (20, 0), (20, 22), (20, 20), (20, 30), (21, 26), (21, 21), (21, 20), (21, 31), (21, 23), (22, 0), (22, 22), (22, 10), (23, 1), (25, 0), (25, 20), (25, 26), (25, 25), (25, 27), (25, 5), (26, 26), (27, 22), (28, 18), (28, 0), (30, 30), (30, 21), (30, 20), (30, 10), (30, 11), (31, 32), (32, 12), (32, 17), (32, 32), (33, 33), (35, 0), (35, 20), (36, 26), (37, 35)]\n",
      "[0, 1, 2, 3, 4, 5, 6, 7, 8, 9, 10, 11, 12, 13, 14, 15, 16, 17, 18, 19, 20, 21, 22, 23, 24, 25, 26, 27, 28, 29, 30, 31, 32, 33, 34, 35, 36, 37, 38, 39]\n",
      "Nodes: 40, Edges (including duplicates): 87\n"
     ]
    }
   ],
   "source": [
    "# Parameters\n",
    "N = 40  # Nodes (should be a power of 2 for \"clean\" R-MAT behavior)\n",
    "M = N * 10 # Number of edges\n",
    "A, B, C = 0.45, 0.15, 0.15#0.25, 0.25, 0.25#0.45, 0.15, 0.15\n",
    "D = 1.0 - (A + B + C)\n",
    "\n",
    "G = generate_rmat_multidigraph(N, M, A, B, C, D, seed=0)\n",
    "G = collapse_multiedges_to_weighted_digraph(G)\n",
    "remove_low_weight_edges(G, threshold=2)\n",
    "\n",
    "print(G.edges())\n",
    "print(G.nodes())\n",
    "\n",
    "print(f\"Nodes: {G.number_of_nodes()}, Edges (including duplicates): {G.number_of_edges()}\")\n",
    "\n",
    "#r_mat_prepared = graph_tools.prepare_graph(G.nodes, G.edges, sink_frac=0.0, seed=0)\n",
    "delegations = graph_tools.nx_graph_to_dict(G)\n"
   ]
  },
  {
   "cell_type": "code",
   "execution_count": 34,
   "id": "c995b1d5",
   "metadata": {},
   "outputs": [
    {
     "name": "stdout",
     "output_type": "stream",
     "text": [
      "Parsing the data...Done\n"
     ]
    },
    {
     "name": "stderr",
     "output_type": "stream",
     "text": [
      "/opt/anaconda3/envs/thesis/lib/python3.12/site-packages/jaal/datasets/parse_dataframe.py:42: FutureWarning:\n",
      "\n",
      "Setting an item of incompatible dtype is deprecated and will raise in a future error of pandas. Value '['0' '0' '0' '0' '0' '0' '0' '0' '0' '1' '1' '1' '1' '1' '1' '2' '2' '2'\n",
      " '2' '2' '3' '3' '5' '5' '5' '5' '6' '6' '6' '6' '7' '10' '10' '10' '10'\n",
      " '10' '11' '11' '11' '12' '12' '13' '13' '15' '15' '15' '17' '17' '18'\n",
      " '20' '20' '20' '20' '20' '21' '21' '21' '21' '21' '22' '22' '22' '23'\n",
      " '25' '25' '25' '25' '25' '25' '26' '27' '28' '28' '30' '30' '30' '30'\n",
      " '30' '31' '32' '32' '32' '33' '35' '35' '36' '37']' has dtype incompatible with int64, please explicitly cast to a compatible dtype first.\n",
      "\n",
      "/opt/anaconda3/envs/thesis/lib/python3.12/site-packages/jaal/datasets/parse_dataframe.py:42: FutureWarning:\n",
      "\n",
      "Setting an item of incompatible dtype is deprecated and will raise in a future error of pandas. Value '['12' '3' '21' '0' '1' '20' '2' '25' '22' '1' '11' '2' '6' '0' '10' '22'\n",
      " '2' '13' '12' '18' '3' '13' '0' '16' '1' '5' '1' '22' '5' '6' '7' '13'\n",
      " '10' '15' '11' '1' '0' '1' '16' '12' '30' '18' '13' '37' '15' '30' '18'\n",
      " '7' '18' '21' '0' '22' '20' '30' '26' '21' '20' '31' '23' '0' '22' '10'\n",
      " '1' '0' '20' '26' '25' '27' '5' '26' '22' '18' '0' '30' '21' '20' '10'\n",
      " '11' '32' '12' '17' '32' '33' '0' '20' '26' '35']' has dtype incompatible with int64, please explicitly cast to a compatible dtype first.\n",
      "\n",
      "/opt/anaconda3/envs/thesis/lib/python3.12/site-packages/jaal/datasets/parse_dataframe.py:57: FutureWarning:\n",
      "\n",
      "Setting an item of incompatible dtype is deprecated and will raise in a future error of pandas. Value '['0' '1' '2' '3' '4' '5' '6' '7' '8' '9' '10' '11' '12' '13' '14' '15'\n",
      " '16' '17' '18' '19' '20' '21' '22' '23' '24' '25' '26' '27' '28' '29'\n",
      " '30' '31' '32' '33' '34' '35' '36' '37' '38' '39']' has dtype incompatible with int64, please explicitly cast to a compatible dtype first.\n",
      "\n"
     ]
    },
    {
     "data": {
      "text/html": [
       "\n",
       "        <iframe\n",
       "            width=\"100%\"\n",
       "            height=\"650\"\n",
       "            src=\"http://127.0.0.1:8050/\"\n",
       "            frameborder=\"0\"\n",
       "            allowfullscreen\n",
       "            \n",
       "        ></iframe>\n",
       "        "
      ],
      "text/plain": [
       "<IPython.lib.display.IFrame at 0x152ed98e0>"
      ]
     },
     "metadata": {},
     "output_type": "display_data"
    },
    {
     "name": "stdout",
     "output_type": "stream",
     "text": [
      "Graph visualization failed because no ports were found or there was another error.\n"
     ]
    },
    {
     "name": "stdout",
     "output_type": "stream",
     "text": [
      "No trigger\n"
     ]
    }
   ],
   "source": [
    "viz.visualize_delegation_graph(delegations)"
   ]
  },
  {
   "cell_type": "markdown",
   "id": "3ee40116",
   "metadata": {},
   "source": [
    "# Benchmarking"
   ]
  },
  {
   "cell_type": "code",
   "execution_count": 4,
   "id": "d795c810",
   "metadata": {},
   "outputs": [
    {
     "name": "stdout",
     "output_type": "stream",
     "text": [
      "0\n",
      "Isolated nodes: 0\n",
      "5000\n",
      "Isolated nodes: 4162\n",
      "10000\n",
      "Isolated nodes: 8762\n",
      "15000\n",
      "Isolated nodes: 12946\n",
      "20000\n",
      "Isolated nodes: 18281\n",
      "25000\n",
      "Isolated nodes: 22623\n",
      "30000\n",
      "Isolated nodes: 27063\n",
      "35000\n",
      "Isolated nodes: 33135\n",
      "40000\n",
      "Isolated nodes: 37664\n",
      "45000\n",
      "Isolated nodes: 42192\n",
      "50000\n",
      "Isolated nodes: 46691\n"
     ]
    }
   ],
   "source": [
    "range_x = range(0, 50001, 5000)#range(0, 1001, 200) #[2 ** i for i in range(0, 16)]  # 2^0 to 2^4\n",
    "\n",
    "time_data_le = []\n",
    "time_data_lp = []\n",
    "time_data_iterative = []\n",
    "\n",
    "zero_indegree_counts = []\n",
    "zero_outdegree_counts = []\n",
    "\n",
    "logger, handler = logger_creator.create_logger(\"benchmarking\")\n",
    "\n",
    "times_le = []\n",
    "times_lp = []\n",
    "times_iterative = []\n",
    "\n",
    "for num_nodes in range_x:\n",
    "    print(num_nodes)\n",
    "\n",
    "    # Parameters\n",
    "    N = num_nodes\n",
    "    M = N * 10  # Number of edges\n",
    "    A, B, C = 0.45, 0.15, 0.15\n",
    "    D = 1.0 - (A + B + C)\n",
    "\n",
    "    G = generate_rmat_multidigraph(N, M, A, B, C, D, seed=0)\n",
    "    G = collapse_multiedges_to_weighted_digraph(G)\n",
    "    remove_low_weight_edges(G, threshold=2)\n",
    "\n",
    "    delegation_graph = graph_tools.prepare_graph(G.nodes(), G.edges())\n",
    "\n",
    "    no_incoming = [n for n in G.nodes() if G.in_degree(n) == 0]\n",
    "    no_outgoing = [n for n in G.nodes() if G.out_degree(n) == 0]\n",
    "    isolated = set(no_incoming) & set(no_outgoing)\n",
    "    print(f\"Isolated nodes: {len(isolated)}\")\n",
    "\n",
    "    delegations_orig = graph_tools.nx_graph_to_dict(delegation_graph)\n",
    "    delegations = graph_tools.invert_graph(delegations_orig)\n",
    "    nodes = list(delegation_graph)\n",
    "\n",
    "    # Collect in/out-degree statistics\n",
    "    zero_indegree = sum(1 for node in G.nodes() if G.in_degree(node) == 0)\n",
    "    zero_outdegree = sum(1 for node in G.nodes() if G.out_degree(node) == 0)\n",
    "    zero_indegree_counts.append(zero_indegree)\n",
    "    zero_outdegree_counts.append(zero_outdegree)\n",
    "\n",
    "    # Verify the solutions are equal\n",
    "    powers_le, sinks_le = le.resolve_delegations(delegations, nodes)\n",
    "    powers_lp, sinks_lp = lp.resolve_delegations(delegations, nodes)\n",
    "    powers_iter = iterative.iterate_delegations(delegations, nodes)\n",
    "\n",
    "    if powers_le.keys() != powers_lp.keys() or any(abs(powers_le[k] - powers_lp[k]) > 10**-4 for k in powers_le):\n",
    "        logger.error(\"Powers do not match\")\n",
    "        logger.error(f\"LE: {powers_le}\")\n",
    "        logger.error(f\"LP: {powers_lp}\")\n",
    "        print(\"Mismatching powers in LE and LP. Check the log file for details.\")\n",
    "        break\n",
    "\n",
    "    for node in sinks_le:\n",
    "        if powers_lp[node] - powers_iter[node] < 0.01:\n",
    "            continue\n",
    "        else:\n",
    "            logger.error(\"Powers do not match\")\n",
    "            logger.error(f\"LP: {powers_lp}\")\n",
    "            logger.error(f\"Iterative: {powers_iter}\")\n",
    "            print(\"Mismatching powers in LP and Iterative. Check the log file for details.\")\n",
    "            break\n",
    "\n",
    "    n = 5\n",
    "    if (num_nodes < 2000):\n",
    "        n = 100\n",
    "    if (num_nodes >= 10000):\n",
    "        n = 20\n",
    "\n",
    "    # LE\n",
    "    le_model = le.set_up(delegations, nodes)\n",
    "    start_time = time.time()\n",
    "    for _ in range(n):\n",
    "        le.solve(*le_model)\n",
    "    end_time = time.time()\n",
    "    times_le.append((end_time - start_time) / n)\n",
    "\n",
    "    # LP\n",
    "    lp_model = lp.set_up(delegations, nodes)\n",
    "    start_time = time.time()\n",
    "    for _ in range(n):\n",
    "        lp.solve(*lp_model)\n",
    "    end_time = time.time()\n",
    "    times_lp.append((end_time - start_time) / n)\n",
    "\n",
    "    # Iterative\n",
    "    start_time = time.time()\n",
    "    for _ in range(n):\n",
    "        p = iterative.iterate_delegations(delegations, nodes)\n",
    "    end_time = time.time()\n",
    "    times_iterative.append((end_time - start_time) / n)\n",
    "\n",
    "time_data_le.append(times_le)\n",
    "time_data_lp.append(times_lp)\n",
    "time_data_iterative.append(times_iterative)\n",
    "\n",
    "logger.removeHandler(handler)\n",
    "handler.close()\n"
   ]
  },
  {
   "cell_type": "code",
   "execution_count": 1,
   "id": "a843e2f8",
   "metadata": {},
   "outputs": [
    {
     "ename": "NameError",
     "evalue": "name 'range_x' is not defined",
     "output_type": "error",
     "traceback": [
      "\u001b[31m---------------------------------------------------------------------------\u001b[39m",
      "\u001b[31mNameError\u001b[39m                                 Traceback (most recent call last)",
      "\u001b[36mCell\u001b[39m\u001b[36m \u001b[39m\u001b[32mIn[1]\u001b[39m\u001b[32m, line 1\u001b[39m\n\u001b[32m----> \u001b[39m\u001b[32m1\u001b[39m \u001b[38;5;28mprint\u001b[39m(\u001b[33m\"\u001b[39m\u001b[33mx = \u001b[39m\u001b[33m\"\u001b[39m, \u001b[38;5;28mlist\u001b[39m(\u001b[43mrange_x\u001b[49m))\n\u001b[32m      2\u001b[39m \u001b[38;5;28mprint\u001b[39m(\u001b[33m\"\u001b[39m\u001b[33mtimes_iterative = \u001b[39m\u001b[33m\"\u001b[39m, times_iterative)\n\u001b[32m      3\u001b[39m \u001b[38;5;28mprint\u001b[39m(\u001b[33m\"\u001b[39m\u001b[33mtimes_le = \u001b[39m\u001b[33m\"\u001b[39m, times_le)\n",
      "\u001b[31mNameError\u001b[39m: name 'range_x' is not defined"
     ]
    }
   ],
   "source": [
    "print(\"x = \", list(range_x))\n",
    "print(\"times_iterative = \", times_iterative)\n",
    "print(\"times_le = \", times_le)\n",
    "print(\"times_lp = \", times_lp)\n",
    "print(time_data_lp)"
   ]
  },
  {
   "cell_type": "code",
   "execution_count": null,
   "id": "57741f17",
   "metadata": {},
   "outputs": [],
   "source": [
    "x = list(range_x)\n",
    "\n",
    "plt.clf()\n",
    "\n",
    "plt.plot(x, times_le, label=f\"LS Solver\")\n",
    "plt.plot(x, times_lp, label=f\"LP Solver\") \n",
    "plt.plot(x, times_iterative, label=f\"Iterative Solver\")  \n",
    "\n",
    "plt.legend()\n",
    "plt.xlabel(\"Amount of Nodes\")\n",
    "plt.ylabel(\"Time (s)\")\n",
    "plt.title(\"Runtimes on R-Mat Delegation Graphs\")\n",
    "plt.show()"
   ]
  },
  {
   "cell_type": "code",
   "execution_count": 5,
   "id": "fec9c46b",
   "metadata": {},
   "outputs": [
    {
     "data": {
      "image/png": "[encoded data removed]",
      "text/plain": [
       "<Figure size 640x480 with 1 Axes>"
      ]
     },
     "metadata": {},
     "output_type": "display_data"
    }
   ],
   "source": [
    "x = list(range_x)\n",
    "\n",
    "plt.clf()\n",
    "\n",
    "plt.plot(x, times_le, label=f\"LS Solver\")\n",
    "plt.plot(x, times_lp, label=f\"LP Solver\") \n",
    "plt.plot(x, times_iterative, label=f\"Iterative Solver\")  \n",
    "\n",
    "plt.legend()\n",
    "plt.xlabel(\"Amount of Nodes\")\n",
    "plt.ylabel(\"Time (s)\")\n",
    "plt.title(\"Runtimes on R-Mat Delegation Graphs (Loglog Scale)\")\n",
    "plt.loglog()\n",
    "plt.show()"
   ]
  },
  {
   "cell_type": "code",
   "execution_count": null,
   "id": "9b430e0d",
   "metadata": {},
   "outputs": [],
   "source": []
  }
 ],
 "metadata": {
  "kernelspec": {
   "display_name": "thesis",
   "language": "python",
   "name": "python3"
  },
  "language_info": {
   "codemirror_mode": {
    "name": "ipython",
    "version": 3
   },
   "file_extension": ".py",
   "mimetype": "text/x-python",
   "name": "python",
   "nbconvert_exporter": "python",
   "pygments_lexer": "ipython3",
   "version": "3.12.9"
  }
 },
 "nbformat": 4,
 "nbformat_minor": 5
}
